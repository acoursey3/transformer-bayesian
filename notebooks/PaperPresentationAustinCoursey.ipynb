{
 "cells": [
  {
   "cell_type": "markdown",
   "id": "92b9e210",
   "metadata": {},
   "source": [
    "## Code Demonstration for Paper Presentation\n",
    "Austin Coursey - Spring 2023\n",
    " Modification of TabularEvalSimple.ipynb from https://github.com/automl/TransformersCanDoBayesianInference/blob/master/requirements.txt\n",
    "- Assumes you have cloned their repository and installed their requirements.\n",
    "- This notebook should then be inside the \"notebooks\" folder\n",
    "- Also use Python=3.9.0 and change their requirements.txt to allow gpytorch==1.6.0"
   ]
  },
  {
   "cell_type": "code",
   "execution_count": 2,
   "id": "5a21a755",
   "metadata": {},
   "outputs": [],
   "source": [
    "import sys\n",
    "sys.path.insert(0,'..')"
   ]
  },
  {
   "cell_type": "code",
   "execution_count": 33,
   "id": "02e63df8",
   "metadata": {},
   "outputs": [],
   "source": [
    "import torch\n",
    "import os\n",
    "\n",
    "from train import train\n",
    "import priors\n",
    "import utils\n",
    "\n",
    "import numpy as np\n",
    "\n",
    "from datasets import load_openml_list, valid_dids_classification, test_dids_classification\n",
    "from tabular import evaluate, get_model, get_default_spec, evaluate_dataset\n",
    "from tabular import bayes_net_metric, gp_metric, knn_metric, catboost_metric, xgb_metric, logistic_metric\n",
    "import matplotlib.pyplot as plt"
   ]
  },
  {
   "cell_type": "code",
   "execution_count": 6,
   "id": "ddfd91f4",
   "metadata": {},
   "outputs": [],
   "source": [
    "%load_ext autoreload\n",
    "\n",
    "%autoreload 2"
   ]
  },
  {
   "cell_type": "markdown",
   "id": "124957ad",
   "metadata": {},
   "source": [
    "## Loading Datasets"
   ]
  },
  {
   "cell_type": "code",
   "execution_count": 7,
   "id": "d2ebc9ed",
   "metadata": {},
   "outputs": [
    {
     "name": "stdout",
     "output_type": "stream",
     "text": [
      "Loading test datasets...\n",
      "wine 973\n",
      "covertype 1596\n",
      "\n",
      " Loading valid datasets...\n",
      "ionosphere 59\n"
     ]
    }
   ],
   "source": [
    "### Loads small list of datasets\n",
    "print('Loading test datasets...')\n",
    "test_datasets, test_datasets_df = load_openml_list(test_dids_classification[0:2], filter_for_nan=True)\n",
    "ds = test_datasets\n",
    "\n",
    "print('\\n Loading valid datasets...')\n",
    "valid_datasets, valid_datasets_df = load_openml_list(valid_dids_classification[0:2], filter_for_nan=True)"
   ]
  },
  {
   "cell_type": "markdown",
   "id": "ba5101b0",
   "metadata": {},
   "source": [
    "## Setting params"
   ]
  },
  {
   "cell_type": "code",
   "execution_count": 8,
   "id": "59c5f0cd",
   "metadata": {},
   "outputs": [],
   "source": [
    "device = 'cpu'"
   ]
  },
  {
   "cell_type": "code",
   "execution_count": 9,
   "id": "05718895",
   "metadata": {},
   "outputs": [],
   "source": [
    "# After how many training samples should evaluatuion be done?\n",
    "# Trained models have not been trained to evaluate after 30 samples\n",
    "# so performance will drop\n",
    "eval_positions = [30]\n",
    "\n",
    "# What is the maximum number of features?\n",
    "# Pretrained models have to use 60\n",
    "max_features = 60\n",
    "\n",
    "# How many samples should be loaded for one dataset?\n",
    "# Samples after the training sequence are used for evaluation\n",
    "seq_len = 100\n",
    "\n",
    "# How many subsamples of datasets should be drawn for each dataset\n",
    "max_samples = 20"
   ]
  },
  {
   "cell_type": "code",
   "execution_count": 10,
   "id": "99db752e",
   "metadata": {},
   "outputs": [],
   "source": [
    "gp_model_checkpoint_dir = \"../results/tabular_model_gp.ckpt\"\n",
    "gp_model_config = {'batch_size': 512,\n",
    " 'bptt': 100,\n",
    " 'dropout': 0.5,\n",
    " 'emsize': 512,\n",
    " 'epochs': 100,\n",
    " 'eval_positions': [10, 20, 40, 80],\n",
    " 'lr': 6.271726842985807e-05,\n",
    " 'nhead': 4,\n",
    " 'nhid_factor': 2,\n",
    " 'nlayers': 5,\n",
    " 'num_features': 60,\n",
    " 'prior_lengthscale': 0.00014803074521613278,\n",
    " 'prior_noise': 0.001,\n",
    " 'prior_normalize_by_used_features': True,\n",
    " 'prior_num_features_used_sampler': {'uniform_int_sampler_f(1,max_features)': '<function <lambda>.<locals>.<lambda> at 0x7f21e832e550>'},\n",
    " 'prior_order_y': False,\n",
    " 'prior_outputscale': 2.3163584733185836,\n",
    " 'prior_type': 'gp'}"
   ]
  },
  {
   "cell_type": "code",
   "execution_count": 11,
   "id": "c3a55662",
   "metadata": {},
   "outputs": [],
   "source": [
    "bnn_model_checkpoint_dir = \"../results/tabular_model_bnn.ckpt\"\n",
    "bnn_model_config = {'batch_size': 512,\n",
    " 'bptt': 50,\n",
    " 'dropout': 0.5,\n",
    " 'emsize': 512,\n",
    " 'epochs': 100,\n",
    " 'eval_positions': [10, 20, 40],\n",
    " 'lr': 1.6421403128751275e-05,\n",
    " 'nhead': 4,\n",
    " 'nhid_factor': 2,\n",
    " 'nlayers': 5,\n",
    " 'num_features': 60,\n",
    " 'prior_activations': \"<class 'torch.nn.modules.activation.Tanh'>\",\n",
    " 'prior_dropout_sampler': {'lambda: 0.0': '<function <lambda> at 0x7f613c1364c0>'},\n",
    " 'prior_emsize_sampler': {'scaled_beta_sampler_f(2.0, 4.0, 150, 2)': '<function <lambda>.<locals>.<lambda> at 0x7f613c136310>'},\n",
    " 'prior_is_causal': False,\n",
    " 'prior_nlayers_sampler': {'lambda: 3': '<function <lambda> at 0x7f613c136790>'},\n",
    " 'prior_noise_std_gamma_k': 1.8663049257557085,\n",
    " 'prior_noise_std_gamma_theta': 0.05275478076173361,\n",
    " 'prior_normalize_by_used_features': False,\n",
    " 'prior_num_features_used_sampler': {'scaled_beta_sampler_f(1.0, 1.6, max_features, 2)': '<function <lambda>.<locals>.<lambda> at 0x7f613c136550>'},\n",
    " 'prior_order_y': True,\n",
    " 'prior_sigma_gamma_k': 3.6187797729244253,\n",
    " 'prior_sigma_gamma_theta': 0.06773738681062867,\n",
    " 'prior_type': 'mlp'}"
   ]
  },
  {
   "cell_type": "markdown",
   "id": "7db138e2",
   "metadata": {},
   "source": [
    "## Loading PFN"
   ]
  },
  {
   "cell_type": "code",
   "execution_count": 12,
   "id": "d81b96c1",
   "metadata": {},
   "outputs": [
    {
     "name": "stdout",
     "output_type": "stream",
     "text": [
      "Using cpu:0 device\n",
      "DataLoader.__dict__ {'num_steps': 100, 'fuse_x_y': False, 'get_batch_kwargs': {'batch_size': 512, 'seq_len': 50, 'num_features': 60, 'hyperparameters': ('<function <lambda> at 0x7f613c136790>', '<function <lambda>.<locals>.<lambda> at 0x7f613c136310>', \"<class 'torch.nn.modules.activation.Tanh'>\", <function <lambda>.<locals>.<lambda> at 0x0000025B5CD2E5E0>, <function <lambda>.<locals>.<lambda> at 0x0000025B5CD2EE50>, '<function <lambda> at 0x7f613c1364c0>', True, '<function <lambda>.<locals>.<lambda> at 0x7f613c136550>', None, False, None, None, None, True, False, None, 0.0), 'batch_size_per_gp_sample': 8}, 'num_features': 60, 'num_outputs': 1}\n"
     ]
    }
   ],
   "source": [
    "model_type = 'bnn'\n",
    "if model_type == 'gp':\n",
    "    raise Exception(\"Not Implemented\")\n",
    "    config = gp_model_config\n",
    "    checkpoint_dir = gp_model_checkpoint_dir\n",
    "elif model_type == 'bnn':\n",
    "    config = bnn_model_config\n",
    "    checkpoint_dir = bnn_model_checkpoint_dir\n",
    "\n",
    "model = get_model(config, device, eval_positions, should_train=False)\n",
    "model_state, _ = torch.load(checkpoint_dir)\n",
    "model[2].load_state_dict(model_state)\n",
    "model = model[2]"
   ]
  },
  {
   "cell_type": "markdown",
   "id": "bf4ecef4",
   "metadata": {},
   "source": [
    "Note that they are using the prior over Bayesian Neural Network architectures"
   ]
  },
  {
   "cell_type": "markdown",
   "id": "cab7ffc2",
   "metadata": {},
   "source": [
    "### Visualizing Transformer Architecture"
   ]
  },
  {
   "cell_type": "code",
   "execution_count": 187,
   "id": "100dc3af",
   "metadata": {},
   "outputs": [
    {
     "data": {
      "text/plain": [
       "TransformerModel(\n",
       "  (transformer_encoder): TransformerEncoder(\n",
       "    (layers): ModuleList(\n",
       "      (0): TransformerEncoderLayer(\n",
       "        (self_attn): MultiheadAttention(\n",
       "          (out_proj): NonDynamicallyQuantizableLinear(in_features=512, out_features=512, bias=True)\n",
       "        )\n",
       "        (linear1): Linear(in_features=512, out_features=1024, bias=True)\n",
       "        (dropout): Dropout(p=0.5, inplace=False)\n",
       "        (linear2): Linear(in_features=1024, out_features=512, bias=True)\n",
       "        (norm1): LayerNorm((512,), eps=1e-05, elementwise_affine=True)\n",
       "        (norm2): LayerNorm((512,), eps=1e-05, elementwise_affine=True)\n",
       "        (dropout1): Dropout(p=0.5, inplace=False)\n",
       "        (dropout2): Dropout(p=0.5, inplace=False)\n",
       "      )\n",
       "      (1): TransformerEncoderLayer(\n",
       "        (self_attn): MultiheadAttention(\n",
       "          (out_proj): NonDynamicallyQuantizableLinear(in_features=512, out_features=512, bias=True)\n",
       "        )\n",
       "        (linear1): Linear(in_features=512, out_features=1024, bias=True)\n",
       "        (dropout): Dropout(p=0.5, inplace=False)\n",
       "        (linear2): Linear(in_features=1024, out_features=512, bias=True)\n",
       "        (norm1): LayerNorm((512,), eps=1e-05, elementwise_affine=True)\n",
       "        (norm2): LayerNorm((512,), eps=1e-05, elementwise_affine=True)\n",
       "        (dropout1): Dropout(p=0.5, inplace=False)\n",
       "        (dropout2): Dropout(p=0.5, inplace=False)\n",
       "      )\n",
       "      (2): TransformerEncoderLayer(\n",
       "        (self_attn): MultiheadAttention(\n",
       "          (out_proj): NonDynamicallyQuantizableLinear(in_features=512, out_features=512, bias=True)\n",
       "        )\n",
       "        (linear1): Linear(in_features=512, out_features=1024, bias=True)\n",
       "        (dropout): Dropout(p=0.5, inplace=False)\n",
       "        (linear2): Linear(in_features=1024, out_features=512, bias=True)\n",
       "        (norm1): LayerNorm((512,), eps=1e-05, elementwise_affine=True)\n",
       "        (norm2): LayerNorm((512,), eps=1e-05, elementwise_affine=True)\n",
       "        (dropout1): Dropout(p=0.5, inplace=False)\n",
       "        (dropout2): Dropout(p=0.5, inplace=False)\n",
       "      )\n",
       "      (3): TransformerEncoderLayer(\n",
       "        (self_attn): MultiheadAttention(\n",
       "          (out_proj): NonDynamicallyQuantizableLinear(in_features=512, out_features=512, bias=True)\n",
       "        )\n",
       "        (linear1): Linear(in_features=512, out_features=1024, bias=True)\n",
       "        (dropout): Dropout(p=0.5, inplace=False)\n",
       "        (linear2): Linear(in_features=1024, out_features=512, bias=True)\n",
       "        (norm1): LayerNorm((512,), eps=1e-05, elementwise_affine=True)\n",
       "        (norm2): LayerNorm((512,), eps=1e-05, elementwise_affine=True)\n",
       "        (dropout1): Dropout(p=0.5, inplace=False)\n",
       "        (dropout2): Dropout(p=0.5, inplace=False)\n",
       "      )\n",
       "      (4): TransformerEncoderLayer(\n",
       "        (self_attn): MultiheadAttention(\n",
       "          (out_proj): NonDynamicallyQuantizableLinear(in_features=512, out_features=512, bias=True)\n",
       "        )\n",
       "        (linear1): Linear(in_features=512, out_features=1024, bias=True)\n",
       "        (dropout): Dropout(p=0.5, inplace=False)\n",
       "        (linear2): Linear(in_features=1024, out_features=512, bias=True)\n",
       "        (norm1): LayerNorm((512,), eps=1e-05, elementwise_affine=True)\n",
       "        (norm2): LayerNorm((512,), eps=1e-05, elementwise_affine=True)\n",
       "        (dropout1): Dropout(p=0.5, inplace=False)\n",
       "        (dropout2): Dropout(p=0.5, inplace=False)\n",
       "      )\n",
       "    )\n",
       "  )\n",
       "  (encoder): Linear(in_features=60, out_features=512, bias=True)\n",
       "  (y_encoder): Linear(in_features=1, out_features=512, bias=True)\n",
       "  (pos_encoder): NoPositionalEncoding()\n",
       "  (decoder): Sequential(\n",
       "    (0): Linear(in_features=512, out_features=1024, bias=True)\n",
       "    (1): GELU()\n",
       "    (2): Linear(in_features=1024, out_features=1, bias=True)\n",
       "  )\n",
       "  (criterion): BCEWithLogitsLoss()\n",
       ")"
      ]
     },
     "execution_count": 187,
     "metadata": {},
     "output_type": "execute_result"
    }
   ],
   "source": [
    "model"
   ]
  },
  {
   "cell_type": "markdown",
   "id": "22e848c7",
   "metadata": {},
   "source": [
    "## Evaluation of PFN"
   ]
  },
  {
   "cell_type": "markdown",
   "id": "bbb65032",
   "metadata": {},
   "source": [
    "### Transformer"
   ]
  },
  {
   "cell_type": "code",
   "execution_count": 31,
   "id": "eda2b5e7",
   "metadata": {
    "tags": []
   },
   "outputs": [
    {
     "name": "stdout",
     "output_type": "stream",
     "text": [
      "Evaluating wine\n",
      "\t Eval position 30 done..\n",
      "Evaluating covertype\n",
      "\t Eval position 30 done..\n"
     ]
    },
    {
     "data": {
      "text/plain": [
       "{'metric': 'auc',\n",
       " 'wine_mean_metric_at_30': 0.9587367346938775,\n",
       " 'wine_time': 7.819770097732544,\n",
       " 'covertype_mean_metric_at_30': 0.9624857142857144,\n",
       " 'covertype_time': 7.266154766082764,\n",
       " 'mean_metric_at_30': 0.960611224489796,\n",
       " 'mean_metric': 0.960611224489796}"
      ]
     },
     "execution_count": 31,
     "metadata": {},
     "output_type": "execute_result"
    }
   ],
   "source": [
    "device = 'cpu'\n",
    "result = evaluate(ds, model.to(device), 'transformer'\n",
    "                  , max_features = max_features\n",
    "                  , bptt=seq_len\n",
    "                  , eval_position_range=eval_positions\n",
    "                  , device=device\n",
    "                  , max_samples=20\n",
    "                  , rescale_features=config[\"prior_normalize_by_used_features\"]\n",
    "                  , extend_features=True, plot=False, overwrite=True, save=False)\n",
    "result"
   ]
  },
  {
   "cell_type": "markdown",
   "id": "51211462",
   "metadata": {},
   "source": [
    "## My Modifications to See What's Going On"
   ]
  },
  {
   "cell_type": "markdown",
   "id": "a9439f28",
   "metadata": {},
   "source": [
    "Let's consider one dataset, the 'wine' one.\n",
    "\n",
    "It's from https://scikit-learn.org/stable/modules/generated/sklearn.datasets.load_wine.html\n",
    "\n",
    "They reframe it as 2 class classification (interesting...)\n",
    "\n",
    "Goal is to predict which cultivar (variety)"
   ]
  },
  {
   "cell_type": "code",
   "execution_count": 20,
   "id": "b7a12b35",
   "metadata": {},
   "outputs": [],
   "source": [
    "wine_data = ds[0]"
   ]
  },
  {
   "cell_type": "markdown",
   "id": "eaf3eca6",
   "metadata": {},
   "source": [
    "There are 13 input features:"
   ]
  },
  {
   "cell_type": "code",
   "execution_count": 28,
   "id": "659e877e",
   "metadata": {},
   "outputs": [
    {
     "data": {
      "text/plain": [
       "torch.Size([13])"
      ]
     },
     "execution_count": 28,
     "metadata": {},
     "output_type": "execute_result"
    }
   ],
   "source": [
    "# 1) Alcohol\n",
    "# 2) Malic acid\n",
    "# 3) Ash\n",
    "# 4) Alcalinity of ash\n",
    "# 5) Magnesium\n",
    "# 6) Total phenols\n",
    "# 7) Flavanoids\n",
    "# 8) Nonflavanoid phenols\n",
    "# 9) Proanthocyanins\n",
    "# 10)Color intensity\n",
    "# 11)Hue\n",
    "# 12)OD280/OD315 of diluted wines\n",
    "# 13)Proline\n",
    "wine_data[1][0].shape"
   ]
  },
  {
   "cell_type": "code",
   "execution_count": 189,
   "id": "a7edaba2",
   "metadata": {},
   "outputs": [
    {
     "data": {
      "text/plain": [
       "(array([71.,  0.,  0.,  0.,  0.,  0.,  0.,  0.,  0., 71.]),\n",
       " array([0.        , 0.1       , 0.2       , 0.30000001, 0.40000001,\n",
       "        0.5       , 0.60000002, 0.69999999, 0.80000001, 0.89999998,\n",
       "        1.        ]),\n",
       " <BarContainer object of 10 artists>)"
      ]
     },
     "execution_count": 189,
     "metadata": {},
     "output_type": "execute_result"
    },
    {
     "data": {
      "image/png": "[encoded data removed]",
      "text/plain": [
       "<Figure size 640x480 with 1 Axes>"
      ]
     },
     "metadata": {},
     "output_type": "display_data"
    }
   ],
   "source": [
    "# Visualizing the output class balance\n",
    "# Balanced 0/1 classification\n",
    "plt.hist(wine_data[2])"
   ]
  },
  {
   "cell_type": "code",
   "execution_count": 30,
   "id": "fee5ca3a",
   "metadata": {
    "scrolled": true
   },
   "outputs": [
    {
     "data": {
      "text/plain": [
       "[['wine',\n",
       "  tensor([[1.1640e+01, 2.0600e+00, 2.4600e+00,  ..., 1.0000e+00, 2.7500e+00,\n",
       "           6.8000e+02],\n",
       "          [1.3860e+01, 1.3500e+00, 2.2700e+00,  ..., 1.0100e+00, 3.5500e+00,\n",
       "           1.0450e+03],\n",
       "          [1.2340e+01, 2.4500e+00, 2.4600e+00,  ..., 8.0000e-01, 3.3800e+00,\n",
       "           4.3800e+02],\n",
       "          ...,\n",
       "          [1.3450e+01, 3.7000e+00, 2.6000e+00,  ..., 8.5000e-01, 1.5600e+00,\n",
       "           6.9500e+02],\n",
       "          [1.1560e+01, 2.0500e+00, 3.2300e+00,  ..., 9.3000e-01, 3.6900e+00,\n",
       "           4.6500e+02],\n",
       "          [1.2820e+01, 3.3700e+00, 2.3000e+00,  ..., 7.2000e-01, 1.7500e+00,\n",
       "           6.8500e+02]]),\n",
       "  tensor([0., 1., 0., 1., 0., 1., 0., 1., 0., 1., 0., 1., 0., 1., 0., 1., 0., 1.,\n",
       "          0., 1., 0., 1., 0., 1., 0., 1., 0., 1., 0., 1., 0., 1., 0., 1., 0., 1.,\n",
       "          0., 1., 0., 1., 0., 1., 0., 1., 0., 1., 0., 1., 0., 1., 0., 1., 0., 1.,\n",
       "          0., 1., 0., 1., 0., 1., 0., 1., 0., 1., 0., 1., 0., 1., 0., 1., 0., 1.,\n",
       "          0., 1., 0., 1., 0., 1., 0., 1., 0., 1., 0., 1., 0., 1., 0., 1., 0., 1.,\n",
       "          0., 1., 0., 1., 0., 1., 0., 1., 0., 1., 0., 1., 0., 1., 0., 1., 0., 1.,\n",
       "          0., 1., 0., 1., 0., 1., 0., 1., 0., 1., 0., 1., 0., 1., 0., 1., 0., 1.,\n",
       "          0., 1., 0., 1., 0., 1., 0., 1., 0., 1., 0., 1., 0., 1., 0., 1.]),\n",
       "  []],\n",
       " ['covertype',\n",
       "  tensor([[2935.,   53.,   22.,  ...,    0.,    0.,    0.],\n",
       "          [3002.,  293.,   10.,  ...,    0.,    0.,    0.],\n",
       "          [2982.,   52.,    8.,  ...,    0.,    0.,    0.],\n",
       "          ...,\n",
       "          [3079.,   24.,    5.,  ...,    0.,    0.,    0.],\n",
       "          [3127.,   25.,   22.,  ...,    0.,    0.,    0.],\n",
       "          [3063.,   41.,   10.,  ...,    0.,    0.,    0.]]),\n",
       "  tensor([0., 1., 0., 1., 0., 1., 0., 1., 0., 1., 0., 1., 0., 1., 0., 1., 0., 1.,\n",
       "          0., 1., 0., 1., 0., 1., 0., 1., 0., 1., 0., 1., 0., 1., 0., 1., 0., 1.,\n",
       "          0., 1., 0., 1., 0., 1., 0., 1., 0., 1., 0., 1., 0., 1., 0., 1., 0., 1.,\n",
       "          0., 1., 0., 1., 0., 1., 0., 1., 0., 1., 0., 1., 0., 1., 0., 1., 0., 1.,\n",
       "          0., 1., 0., 1., 0., 1., 0., 1., 0., 1., 0., 1., 0., 1., 0., 1., 0., 1.,\n",
       "          0., 1., 0., 1., 0., 1., 0., 1., 0., 1., 0., 1., 0., 1., 0., 1., 0., 1.,\n",
       "          0., 1., 0., 1., 0., 1., 0., 1., 0., 1., 0., 1., 0., 1., 0., 1., 0., 1.,\n",
       "          0., 1., 0., 1., 0., 1., 0., 1., 0., 1., 0., 1., 0., 1., 0., 1., 0., 1.,\n",
       "          0., 1., 0., 1., 0., 1., 0., 1., 0., 1., 0., 1., 0., 1., 0., 1., 0., 1.,\n",
       "          0., 1., 0., 1., 0., 1., 0., 1., 0., 1., 0., 1., 0., 1., 0., 1., 0., 1.,\n",
       "          0., 1., 0., 1., 0., 1., 0., 1., 0., 1., 0., 1., 0., 1., 0., 1., 0., 1.,\n",
       "          0., 1., 0., 1., 0., 1., 0., 1., 0., 1., 0., 1., 0., 1., 0., 1., 0., 1.,\n",
       "          0., 1., 0., 1., 0., 1., 0., 1., 0., 1., 0., 1., 0., 1., 0., 1., 0., 1.,\n",
       "          0., 1., 0., 1., 0., 1., 0., 1., 0., 1., 0., 1., 0., 1., 0., 1., 0., 1.,\n",
       "          0., 1., 0., 1., 0., 1., 0., 1., 0., 1., 0., 1., 0., 1., 0., 1., 0., 1.,\n",
       "          0., 1., 0., 1., 0., 1., 0., 1., 0., 1., 0., 1., 0., 1., 0., 1., 0., 1.,\n",
       "          0., 1., 0., 1., 0., 1., 0., 1., 0., 1., 0., 1., 0., 1., 0., 1., 0., 1.,\n",
       "          0., 1., 0., 1., 0., 1., 0., 1., 0., 1., 0., 1., 0., 1., 0., 1., 0., 1.,\n",
       "          0., 1., 0., 1., 0., 1., 0., 1., 0., 1., 0., 1., 0., 1., 0., 1., 0., 1.,\n",
       "          0., 1., 0., 1., 0., 1., 0., 1., 0., 1., 0., 1., 0., 1., 0., 1., 0., 1.,\n",
       "          0., 1., 0., 1., 0., 1., 0., 1., 0., 1., 0., 1., 0., 1., 0., 1., 0., 1.,\n",
       "          0., 1., 0., 1., 0., 1., 0., 1., 0., 1., 0., 1., 0., 1., 0., 1., 0., 1.,\n",
       "          0., 1., 0., 1.]),\n",
       "  [10,\n",
       "   11,\n",
       "   12,\n",
       "   13,\n",
       "   14,\n",
       "   15,\n",
       "   16,\n",
       "   17,\n",
       "   18,\n",
       "   19,\n",
       "   20,\n",
       "   21,\n",
       "   22,\n",
       "   23,\n",
       "   24,\n",
       "   25,\n",
       "   26,\n",
       "   27,\n",
       "   28,\n",
       "   29,\n",
       "   30,\n",
       "   31,\n",
       "   32,\n",
       "   33,\n",
       "   34,\n",
       "   35,\n",
       "   36,\n",
       "   37,\n",
       "   38,\n",
       "   39,\n",
       "   40,\n",
       "   41,\n",
       "   42,\n",
       "   43,\n",
       "   44,\n",
       "   45,\n",
       "   46,\n",
       "   47,\n",
       "   48,\n",
       "   49,\n",
       "   50,\n",
       "   51,\n",
       "   52,\n",
       "   53]]]"
      ]
     },
     "execution_count": 30,
     "metadata": {},
     "output_type": "execute_result"
    }
   ],
   "source": [
    "ds"
   ]
  },
  {
   "cell_type": "markdown",
   "id": "b01f1d4a",
   "metadata": {},
   "source": [
    "The dataset is (($\\mathbf{X}$, $\\mathbf{y}$), $\\mathbf{q}$)). This is fed to the model to make predictions."
   ]
  },
  {
   "cell_type": "code",
   "execution_count": 190,
   "id": "7b5ae195",
   "metadata": {},
   "outputs": [],
   "source": [
    "X = wine_data[1]\n",
    "rescale_features_factor = X.shape[1] / max_features if True and True else 1.0\n",
    "X = torch.cat([X, torch.zeros((X.shape[0], max_features - X.shape[1]))], -1) # performing padding"
   ]
  },
  {
   "cell_type": "markdown",
   "id": "0d48f74b",
   "metadata": {},
   "source": [
    "#### Evaluating on just the Wine Dataset"
   ]
  },
  {
   "cell_type": "code",
   "execution_count": 207,
   "id": "651920d6",
   "metadata": {
    "scrolled": true
   },
   "outputs": [
    {
     "name": "stdout",
     "output_type": "stream",
     "text": [
      "\t Eval position 30 done..\n"
     ]
    },
    {
     "data": {
      "text/plain": [
       "[(array([0.99591837, 0.99591837, 0.89142857, 0.94612245, 0.83836735,\n",
       "         0.99510204, 0.87918367, 0.85632653, 0.90285714, 0.99591837,\n",
       "         0.99755102, 0.99673469, 0.95265306, 0.89061224, 0.96734694,\n",
       "         0.97877551, 0.99591837, 0.9877551 , 0.99836735, 0.97387755,\n",
       "         0.89142857, 0.88      , 0.99673469, 0.92408163, 0.98285714,\n",
       "         0.88      , 0.99673469, 0.95428571, 0.86938776, 0.88244898,\n",
       "         0.8955102 , 0.86693878, 0.99673469, 0.94204082, 0.87183673,\n",
       "         0.99755102, 0.99510204, 0.99755102, 0.99673469, 0.99591837]),\n",
       "  array([[0.03147673, 0.07891157, 0.1174833 , ..., 0.05107496, 0.26766613,\n",
       "          0.21977873],\n",
       "         [0.75298375, 0.9558053 , 0.73578161, ..., 0.98082608, 0.97041118,\n",
       "          0.95715612],\n",
       "         [0.2359897 , 0.05336409, 0.12023957, ..., 0.08484938, 0.07167102,\n",
       "          0.24678433],\n",
       "         ...,\n",
       "         [0.43739536, 0.86386549, 0.21605   , ..., 0.92208081, 0.39100716,\n",
       "          0.95003033],\n",
       "         [0.06253019, 0.09295728, 0.27091268, ..., 0.06229852, 0.2393793 ,\n",
       "          0.04037996],\n",
       "         [0.93885005, 0.91899192, 0.24357359, ..., 0.93362731, 0.39960536,\n",
       "          0.36346611]]),\n",
       "  tensor([[0., 0., 0.,  ..., 0., 0., 0.],\n",
       "          [1., 1., 1.,  ..., 1., 1., 1.],\n",
       "          [0., 0., 0.,  ..., 0., 0., 0.],\n",
       "          ...,\n",
       "          [1., 1., 1.,  ..., 1., 1., 1.],\n",
       "          [0., 0., 0.,  ..., 0., 0., 0.],\n",
       "          [1., 1., 1.,  ..., 1., 1., 1.]]))]"
      ]
     },
     "execution_count": 207,
     "metadata": {},
     "output_type": "execute_result"
    }
   ],
   "source": [
    "result = evaluate_dataset(X, wine_data[2], [], \n",
    "                          model, bptt=seq_len, eval_position_range=eval_positions, max_samples=40, plot=False)\n",
    "result # should be tuple of metric_eval_pos, outputs, eval_ys[eval_position:]"
   ]
  },
  {
   "cell_type": "code",
   "execution_count": 208,
   "id": "4724a2a2",
   "metadata": {},
   "outputs": [
    {
     "data": {
      "text/plain": [
       "(70, 40)"
      ]
     },
     "execution_count": 208,
     "metadata": {},
     "output_type": "execute_result"
    }
   ],
   "source": [
    "result[0][1].shape"
   ]
  },
  {
   "cell_type": "markdown",
   "id": "54772893",
   "metadata": {},
   "source": [
    "There are 70 test points, but 40 predictions for each.\n",
    "\n",
    "## Why? (Class Question 2) "
   ]
  },
  {
   "cell_type": "markdown",
   "id": "ff2b8b43",
   "metadata": {},
   "source": [
    "#\n",
    "#\n",
    "#\n",
    "#\n",
    "#\n",
    "### Hint: what is the goal of this paper to obtain?\n",
    "#\n",
    "#\n",
    "#\n",
    "#\n",
    "#\n",
    "#\n",
    "#"
   ]
  },
  {
   "cell_type": "markdown",
   "id": "8c46a7eb",
   "metadata": {},
   "source": [
    "From the paper, the posterior for BNN is over **model architecture**. So it emulates sampling an architecture from their posterior distribution (given by the Transformer) and using that to make a point prediction. This is done 40 times. Naturally, some of these architectures will be better than others, but the posterior distribution should give good predictions on average due to the training.\n",
    "\n",
    "**Note:** It looks like they are forming the posterior predictive distribution over model architectures, not the posterior. In theory, the posterior is captured somewhere within the Transformer, but we cannot actually access the posterior. This is a con of the approach."
   ]
  },
  {
   "cell_type": "code",
   "execution_count": 209,
   "id": "bcd8dbbf",
   "metadata": {},
   "outputs": [],
   "source": [
    "mean_preds = [i.mean() for i in result[0][1]]"
   ]
  },
  {
   "cell_type": "code",
   "execution_count": 210,
   "id": "a00f40a8",
   "metadata": {
    "scrolled": true
   },
   "outputs": [
    {
     "data": {
      "text/plain": [
       "[0.4973284896928817,\n",
       " 0.5066407222766429,\n",
       " 0.4977026330307126,\n",
       " 0.5030913200695067,\n",
       " 0.5019492147956044,\n",
       " 0.4890506517607719,\n",
       " 0.4946201402693987,\n",
       " 0.511161226965487,\n",
       " 0.49690569206140933,\n",
       " 0.5094255087897182,\n",
       " 0.5184670626651495,\n",
       " 0.5080800859257579,\n",
       " 0.5069865895900876,\n",
       " 0.5081100204028189,\n",
       " 0.5153255650307983,\n",
       " 0.5028790421783924,\n",
       " 0.509566851425916,\n",
       " 0.5089862764813006,\n",
       " 0.509429979370907,\n",
       " 0.50286196898669,\n",
       " 0.5034818147774786,\n",
       " 0.5039151402190327,\n",
       " 0.5003199782222509,\n",
       " 0.5215008819941431,\n",
       " 0.5160013309214264,\n",
       " 0.519038155535236,\n",
       " 0.532703536376357,\n",
       " 0.524162374297157,\n",
       " 0.5363444237969816,\n",
       " 0.533126974478364,\n",
       " 0.5294537309557199,\n",
       " 0.5328001832589507,\n",
       " 0.5169248656369746,\n",
       " 0.5188986566849053,\n",
       " 0.5194560803472996,\n",
       " 0.5013013345189392,\n",
       " 0.5041417859494686,\n",
       " 0.5086004217155278,\n",
       " 0.5086468725465239,\n",
       " 0.508242892054841,\n",
       " 0.49038397520780563,\n",
       " 0.49546381146647034,\n",
       " 0.48367164875380697,\n",
       " 0.4938454830087721,\n",
       " 0.45315141854807733,\n",
       " 0.4631079048849642,\n",
       " 0.44879634864628315,\n",
       " 0.4471959170885384,\n",
       " 0.4291665518656373,\n",
       " 0.43479458438232543,\n",
       " 0.4251375213265419,\n",
       " 0.4182871490716934,\n",
       " 0.39562390455976126,\n",
       " 0.4079374872148037,\n",
       " 0.38652994576841593,\n",
       " 0.3868184404913336,\n",
       " 0.3685197511687875,\n",
       " 0.3674982478842139,\n",
       " 0.34596846089698374,\n",
       " 0.3441578533500433,\n",
       " 0.32932176734320817,\n",
       " 0.3345074118580669,\n",
       " 0.3127112679183483,\n",
       " 0.31391622852534057,\n",
       " 0.29160186322405934,\n",
       " 0.29972915844991804,\n",
       " 0.2701457601506263,\n",
       " 0.28385944277979436,\n",
       " 0.26736414707265793,\n",
       " 0.2800838797353208]"
      ]
     },
     "execution_count": 210,
     "metadata": {},
     "output_type": "execute_result"
    }
   ],
   "source": [
    "mean_preds"
   ]
  },
  {
   "cell_type": "code",
   "execution_count": 211,
   "id": "a005971f",
   "metadata": {},
   "outputs": [],
   "source": [
    "test_labels = wine_data[2][30:100].detach().numpy()"
   ]
  },
  {
   "cell_type": "markdown",
   "id": "622471c8",
   "metadata": {},
   "source": [
    "### Visualizing ROC of predictions from sampled architectures for Wine Dataset"
   ]
  },
  {
   "cell_type": "code",
   "execution_count": 212,
   "id": "8c4f24d3",
   "metadata": {},
   "outputs": [],
   "source": [
    "from sklearn.metrics import roc_auc_score, roc_curve\n",
    "\n",
    "fpr, tpr, thresholds = roc_curve(result[0][2].flatten(), result[0][1].flatten())\n",
    "roc_auc = roc_auc_score(result[0][2].flatten(), result[0][1].flatten())"
   ]
  },
  {
   "cell_type": "code",
   "execution_count": 213,
   "id": "b419d73c",
   "metadata": {},
   "outputs": [
    {
     "data": {
      "image/png": "[encoded data removed]",
      "text/plain": [
       "<Figure size 640x480 with 1 Axes>"
      ]
     },
     "metadata": {},
     "output_type": "display_data"
    }
   ],
   "source": [
    "# https://stackoverflow.com/questions/25009284/how-to-plot-roc-curve-in-python\n",
    "plt.title('Receiver Operating Characteristic')\n",
    "plt.plot(fpr, tpr, 'b', label = 'AUC = %0.2f' % roc_auc)\n",
    "plt.legend(loc = 'lower right')\n",
    "plt.plot([0, 1], [0, 1],'r--')\n",
    "plt.xlim([-0.01, 1.01])\n",
    "plt.ylim([-0.01, 1.01])\n",
    "plt.ylabel('True Positive Rate')\n",
    "plt.xlabel('False Positive Rate')\n",
    "plt.show()"
   ]
  },
  {
   "cell_type": "markdown",
   "id": "3a52da07",
   "metadata": {},
   "source": [
    "#### Determine optimal threshold so we can view our predictions better\n",
    "\n",
    "Let's say the $\\text{threshold}[\\arg\\max_i(TPR_i - FPR_i)]$ is optimal.\n",
    "\n",
    "This is https://en.wikipedia.org/wiki/Youden's_J_statistic"
   ]
  },
  {
   "cell_type": "code",
   "execution_count": 206,
   "id": "93e54f75",
   "metadata": {},
   "outputs": [
    {
     "name": "stdout",
     "output_type": "stream",
     "text": [
      "0.4660896062850952\n"
     ]
    }
   ],
   "source": [
    "current_best = 0\n",
    "optimal_index = 0\n",
    "for i in range(len(fpr)):\n",
    "    combination_metric = tpr[i] - fpr[i]\n",
    "    if  combination_metric > current_best:\n",
    "        current_best = combination_metric\n",
    "        optimal_index = i\n",
    "    \n",
    "optimal_threshold = thresholds[optimal_index]\n",
    "print(optimal_threshold)"
   ]
  },
  {
   "cell_type": "code",
   "execution_count": 181,
   "id": "c7580c30",
   "metadata": {},
   "outputs": [
    {
     "data": {
      "text/plain": [
       "0.5"
      ]
     },
     "execution_count": 181,
     "metadata": {},
     "output_type": "execute_result"
    }
   ],
   "source": [
    "from sklearn.metrics import accuracy_score\n",
    "\n",
    "accuracy_score(mean_preds>optimal_threshold, test_labels)"
   ]
  },
  {
   "cell_type": "markdown",
   "id": "469c54b6",
   "metadata": {},
   "source": [
    "### Output of BNN\n",
    "\n",
    "#### Let's consider the output for a single point"
   ]
  },
  {
   "cell_type": "code",
   "execution_count": 193,
   "id": "dc23ab6f",
   "metadata": {},
   "outputs": [],
   "source": [
    "point_index = 5\n",
    "true_label = wine_data[2][30+point_index]\n",
    "point_predictions = result[0][1][5]"
   ]
  },
  {
   "cell_type": "code",
   "execution_count": 214,
   "id": "7cf07e4b",
   "metadata": {},
   "outputs": [
    {
     "data": {
      "text/plain": [
       "<matplotlib.legend.Legend at 0x25b05c07df0>"
      ]
     },
     "execution_count": 214,
     "metadata": {},
     "output_type": "execute_result"
    },
    {
     "data": {
      "image/png": "[encoded data removed]",
      "text/plain": [
       "<Figure size 800x500 with 1 Axes>"
      ]
     },
     "metadata": {},
     "output_type": "display_data"
    }
   ],
   "source": [
    "samples = len(point_predictions)\n",
    "\n",
    "plt.figure(figsize=(8,5))\n",
    "plt.title(\"Predictions for Test Point 5 (Posterior Predictive Distribution)\")\n",
    "plt.ylabel(\"Predicted Probability of Class 1 from Sampled Architecture\")\n",
    "plt.xlabel(\"Sampled Architecture Index\")\n",
    "plt.scatter(range(samples), point_predictions, label='Prediction')\n",
    "plt.plot(range(samples), np.repeat(optimal_threshold, samples), ':', color='black', label='Optimal Threshold')\n",
    "plt.plot(range(samples), np.repeat(point_predictions.mean(), samples), ':', color='orange', label='Prediction Mean')\n",
    "plt.legend()"
   ]
  }
 ],
 "metadata": {
  "kernelspec": {
   "display_name": "Python 3 (ipykernel)",
   "language": "python",
   "name": "python3"
  },
  "language_info": {
   "codemirror_mode": {
    "name": "ipython",
    "version": 3
   },
   "file_extension": ".py",
   "mimetype": "text/x-python",
   "name": "python",
   "nbconvert_exporter": "python",
   "pygments_lexer": "ipython3",
   "version": "3.9.0"
  }
 },
 "nbformat": 4,
 "nbformat_minor": 5
}
